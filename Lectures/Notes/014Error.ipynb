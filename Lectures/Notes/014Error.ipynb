{
 "cells": [
  {
   "metadata": {},
   "cell_type": "markdown",
   "source": [
    "# 异常(Error)\n",
    "\n",
    "## 抛出异常\n",
    "\n",
    "通常使用'raise'关键字来抛出异常，主要的异常类型有：\n",
    "\n",
    "- TypeError: A function was passed the wrong type of arguments.\n",
    "- NameError: A name wasn't found.\n",
    "- KeyError: A key wasn't found in a dictionary.\n",
    "- RecursionError: Too many recursive calls (infinite recursion).\n",
    "- ZeroDivisionError: A number is trying to divide 0.\n",
    "\n",
    "## 捕获异常\n",
    "\n",
    "通常使用'try except'来捕获异常。"
   ],
   "id": "2b47c2726a17131"
  },
  {
   "cell_type": "code",
   "id": "initial_id",
   "metadata": {
    "collapsed": true,
    "ExecuteTime": {
     "end_time": "2025-01-13T13:17:20.822030Z",
     "start_time": "2025-01-13T13:17:20.817172Z"
    }
   },
   "source": [
    "def square(x):\n",
    "    if isinstance(x, str):\n",
    "        raise TypeError('Only int/float allowed.')\n",
    "    return x ** 2\n",
    "\n",
    "print(square(5))\n",
    "\n",
    "try: \n",
    "    print(square('hahahahhh'))\n",
    "except TypeError as e:\n",
    "    print(e)\n"
   ],
   "outputs": [
    {
     "name": "stdout",
     "output_type": "stream",
     "text": [
      "25\n",
      "Only int/float allowed.\n"
     ]
    }
   ],
   "execution_count": 2
  }
 ],
 "metadata": {
  "kernelspec": {
   "display_name": "Python 3",
   "language": "python",
   "name": "python3"
  },
  "language_info": {
   "codemirror_mode": {
    "name": "ipython",
    "version": 2
   },
   "file_extension": ".py",
   "mimetype": "text/x-python",
   "name": "python",
   "nbconvert_exporter": "python",
   "pygments_lexer": "ipython2",
   "version": "2.7.6"
  }
 },
 "nbformat": 4,
 "nbformat_minor": 5
}
