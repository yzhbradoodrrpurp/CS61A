{
 "cells": [
  {
   "metadata": {},
   "cell_type": "markdown",
   "source": [
    "# 解包(Unpacking)\n",
    "\n",
    "## * \n",
    "\n",
    "- `*` 可以用于解包列表、元组、生成器等可迭代对象，所谓解包，就是将一个可迭代对象中的元素全部拆分为单独的元素。"
   ],
   "id": "8d70055fa31a128d"
  },
  {
   "cell_type": "code",
   "id": "initial_id",
   "metadata": {
    "collapsed": true,
    "ExecuteTime": {
     "end_time": "2025-01-16T02:21:14.654128Z",
     "start_time": "2025-01-16T02:21:14.646219Z"
    }
   },
   "source": [
    "alphabets = ['a', 'b', 'c']\n",
    "print(alphabets)\n",
    "print(*alphabets)\n",
    "\n",
    "numbers = range(0, 11)\n",
    "print(numbers)\n",
    "print(*numbers)"
   ],
   "outputs": [
    {
     "name": "stdout",
     "output_type": "stream",
     "text": [
      "['a', 'b', 'c']\n",
      "a b c\n",
      "range(0, 11)\n",
      "0 1 2 3 4 5 6 7 8 9 10\n"
     ]
    }
   ],
   "execution_count": 2
  },
  {
   "metadata": {},
   "cell_type": "markdown",
   "source": "- `*` 还可以用于在函数中进行不定长度的参数传递，位置必须在普通的参数后面，被传入的参数打包一个元组。",
   "id": "b67a76b14b82300"
  },
  {
   "metadata": {
    "ExecuteTime": {
     "end_time": "2025-01-16T02:43:19.942222Z",
     "start_time": "2025-01-16T02:43:19.938062Z"
    }
   },
   "cell_type": "code",
   "source": [
    "def example(a, b, *args):\n",
    "    print(a, b)\n",
    "    print(args)\n",
    "    \n",
    "\n",
    "example(1, 2, 3, 4, 5, 6, 7, 8, 9)"
   ],
   "id": "b0bfa4ad9af474d8",
   "outputs": [
    {
     "name": "stdout",
     "output_type": "stream",
     "text": [
      "1 2\n",
      "(3, 4, 5, 6, 7, 8, 9)\n"
     ]
    }
   ],
   "execution_count": 4
  },
  {
   "metadata": {},
   "cell_type": "markdown",
   "source": [
    "## **\n",
    "\n",
    "- `**` 将键值对(key=value)打包成字典，便于在函数中进行不定长度的参数传递（带名字的）。"
   ],
   "id": "8e351238ad513145"
  },
  {
   "metadata": {
    "ExecuteTime": {
     "end_time": "2025-01-16T02:52:56.060272Z",
     "start_time": "2025-01-16T02:52:56.051680Z"
    }
   },
   "cell_type": "code",
   "source": [
    "def ages(**kwargs):\n",
    "    for key, value in kwargs.items():\n",
    "        print(key, value)\n",
    "\n",
    "\n",
    "ages(John=19, Mike=20, Rob=18)"
   ],
   "id": "ad5025bacad4771d",
   "outputs": [
    {
     "name": "stdout",
     "output_type": "stream",
     "text": [
      "John 19\n",
      "Mike 20\n",
      "Rob 18\n"
     ]
    }
   ],
   "execution_count": 10
  }
 ],
 "metadata": {
  "kernelspec": {
   "display_name": "Python 3",
   "language": "python",
   "name": "python3"
  },
  "language_info": {
   "codemirror_mode": {
    "name": "ipython",
    "version": 2
   },
   "file_extension": ".py",
   "mimetype": "text/x-python",
   "name": "python",
   "nbconvert_exporter": "python",
   "pygments_lexer": "ipython2",
   "version": "2.7.6"
  }
 },
 "nbformat": 4,
 "nbformat_minor": 5
}
