{
 "cells": [
  {
   "metadata": {},
   "cell_type": "markdown",
   "source": "int, float, str, tuple等属于不可变对象，意味着每次赋值时，实际上是重新创建了一个新的对象；list, dict, set是可变对象，意味着赋值时没有重新创建一个对象，而是将同一个对象指向了一个新的名字（同时保留了之前的名字，也就是说一个对象实际上有多个名字）。",
   "id": "3e66eb9830bb2a88"
  },
  {
   "cell_type": "code",
   "id": "initial_id",
   "metadata": {
    "collapsed": true,
    "ExecuteTime": {
     "end_time": "2024-11-30T11:27:01.444531Z",
     "start_time": "2024-11-30T11:27:01.440648Z"
    }
   },
   "source": [
    "a = [1,2,3,4,5,6,7,8,9]\n",
    "b = a\n",
    "b.append(10)\n",
    "print(a)\n",
    "a.remove(1)\n",
    "print(b)"
   ],
   "outputs": [
    {
     "name": "stdout",
     "output_type": "stream",
     "text": [
      "[1, 2, 3, 4, 5, 6, 7, 8, 9, 10]\n",
      "[2, 3, 4, 5, 6, 7, 8, 9, 10]\n"
     ]
    }
   ],
   "execution_count": 17
  },
  {
   "metadata": {},
   "cell_type": "markdown",
   "source": "另外值得一提的是，可变对象在函数中的改变都会改变本身，因为传入函数的不是一份拷贝，而是自身；不可变对象在函数中的改变不会改变自身，因为传入的是一份拷贝。",
   "id": "49f7cd1d702928b"
  },
  {
   "metadata": {
    "ExecuteTime": {
     "end_time": "2024-11-30T11:27:01.450082Z",
     "start_time": "2024-11-30T11:27:01.446963Z"
    }
   },
   "cell_type": "code",
   "source": [
    "def mutable_test(a):\n",
    "    a.extend([1, 2, 2, 1])\n",
    "    \n",
    "a = [1, 2, 4]\n",
    "mutable_test(a)\n",
    "print(a)"
   ],
   "id": "56c8f297dc2fca90",
   "outputs": [
    {
     "name": "stdout",
     "output_type": "stream",
     "text": [
      "[1, 2, 4, 1, 2, 2, 1]\n"
     ]
    }
   ],
   "execution_count": 18
  },
  {
   "metadata": {},
   "cell_type": "markdown",
   "source": "在使用函数闭包封装时，注意不可变对象的特性。使用nonlocal remain表明remain不是一个withdraw函数内部的变量，而是来自外部。这样在修改remain的时候不会重新创建一个remain（这是不可变对象的特性），在withdraw调用完成的时候清空所有内部变量，避免造成下一次调用withdraw的时候remain实际上不存在的情况。",
   "id": "ad679cf2399b0df4"
  },
  {
   "metadata": {
    "ExecuteTime": {
     "end_time": "2024-11-30T11:27:01.454679Z",
     "start_time": "2024-11-30T11:27:01.450929Z"
    }
   },
   "cell_type": "code",
   "source": [
    "def make_withdraw(initial):\n",
    "    remain = initial\n",
    "    \n",
    "    def withdraw(amount):\n",
    "        nonlocal remain\n",
    "        if amount > remain:\n",
    "            return 'Unsufficient Remaining Deposit.'\n",
    "        else:\n",
    "            remain -= amount\n",
    "            return remain\n",
    "    return withdraw\n",
    "        \n",
    "\n",
    "withdraw = make_withdraw(100)\n",
    "print(withdraw(66))\n",
    "print(withdraw(44))\n",
    "print(withdraw(10))"
   ],
   "id": "2e328bdfa7543d80",
   "outputs": [
    {
     "name": "stdout",
     "output_type": "stream",
     "text": [
      "34\n",
      "Unsufficient Remaining Deposit.\n",
      "24\n"
     ]
    }
   ],
   "execution_count": 19
  },
  {
   "metadata": {},
   "cell_type": "markdown",
   "source": "",
   "id": "dd6fda4339f4d3dc"
  }
 ],
 "metadata": {
  "kernelspec": {
   "display_name": "Python 3",
   "language": "python",
   "name": "python3"
  },
  "language_info": {
   "codemirror_mode": {
    "name": "ipython",
    "version": 2
   },
   "file_extension": ".py",
   "mimetype": "text/x-python",
   "name": "python",
   "nbconvert_exporter": "python",
   "pygments_lexer": "ipython2",
   "version": "2.7.6"
  }
 },
 "nbformat": 4,
 "nbformat_minor": 5
}
