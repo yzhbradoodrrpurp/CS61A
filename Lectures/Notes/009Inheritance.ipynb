{
 "cells": [
  {
   "metadata": {},
   "cell_type": "markdown",
   "source": [
    "# Inheritance(继承)\n",
    "\n",
    "## 简介\n",
    "\n",
    "- Inheritance（继承）是面向对象编程中的一个概念，指的是一个类（子类）可以继承另一个类（父类）的属性和方法。通过继承，子类可以复用父类的代码，并且可以扩展或重写父类的功能。\n",
    "\n",
    "## 细节\n",
    "\n",
    "- 在定义一个类时，如果在类名后加上括号和另一个类名，那么这个类就是另一个类的子类。\n",
    "\n",
    "        class CheckingAccount(Account):\n",
    "            pass\n",
    "\n",
    "- 子类继承了父类的一切非私有的属性和方法。\n",
    "\n",
    "- 在子类中可以重写(Override)父类中的属性和方法，未被重写的属性和方法会直接调用父类相对应的属性和方法。\n",
    "    \n",
    "    - 以下例子中，属性 interest_rate 和 方法 withdraw 被重写了(Override)，其余的属性(holder, balance)和方法(\\_\\_init\\_\\_, deposit)都继承自 Account 。\n",
    "\n",
    "            class CheckingAccount(Account):\n",
    "            withdraw_fee = 1\n",
    "            interest_rate = 0.02\n",
    "        \n",
    "            def withdraw(self, amount):\n",
    "                return Account.withdraw(self, amount + self.withdraw_fee)"
   ],
   "id": "74f0d95bc97771c6"
  },
  {
   "cell_type": "code",
   "id": "initial_id",
   "metadata": {
    "collapsed": true,
    "ExecuteTime": {
     "end_time": "2024-12-07T11:50:39.497142Z",
     "start_time": "2024-12-07T11:50:39.483434Z"
    }
   },
   "source": [
    "class Account:\n",
    "    interest_rate = 0.03\n",
    "    \n",
    "    def __init__(self, account_holder):\n",
    "        self.holder = account_holder\n",
    "        self.balance = 0\n",
    "    \n",
    "    def deposit(self, amount):\n",
    "        self.balance += amount\n",
    "        return self.balance\n",
    "    \n",
    "    def withdraw(self, amount):\n",
    "        if amount > self.balance:\n",
    "            return 'Insufficient funds.'\n",
    "        else:\n",
    "            self.balance -= amount\n",
    "            return self.balance\n",
    "        \n",
    "    \n",
    "class CheckingAccount(Account):\n",
    "    withdraw_fee = 1\n",
    "    interest_rate = 0.02\n",
    "    \n",
    "    def withdraw(self, amount):\n",
    "        # self.withdraw 和 Account.withdraw 不同。\n",
    "        return Account.withdraw(self, amount + self.withdraw_fee)\n",
    "    \n",
    "    \n",
    "account1 = Account('Sasi')\n",
    "account2 = CheckingAccount('JackZebra')\n",
    "\n",
    "print(f'The interest rate of Account: {account1.interest_rate}')\n",
    "print(f'The interest rate of CheckingAccount: {account2.interest_rate}')\n",
    "\n",
    "print(f'The holder of account1 is {account1.holder}')\n",
    "print(f'The holder of account2 is {account2.holder}')\n",
    "\n",
    "account1.deposit(100)\n",
    "account2.deposit(100)\n",
    "\n",
    "print(f'The total amount after depositing 100 and withdrawing 50: {account1.withdraw(50)}')\n",
    "print(f'The total amount after depositing 100 and withdrawing 50: {account2.withdraw(50)}')"
   ],
   "outputs": [
    {
     "name": "stdout",
     "output_type": "stream",
     "text": [
      "The interest rate of Account: 0.03\n",
      "The interest rate of CheckingAccount: 0.02\n",
      "The holder of account1 is Sasi\n",
      "The holder of account2 is JackZebra\n",
      "The total amount after depositing 100 and withdrawing 50: 50\n",
      "The total amount after depositing 100 and withdrawing 50: 49\n"
     ]
    }
   ],
   "execution_count": 8
  },
  {
   "metadata": {},
   "cell_type": "markdown",
   "source": [
    "## 类的关系\n",
    "\n",
    "- 一个类可以是另一个类的子类，这种关系叫做继承(Inheritance)；一个类还可以拥有(Composition)另一个类。\n",
    "\n",
    "- 在以下例子中，Bank是一个银行类，这个类的属性 self.accounts 是一个由Account类及其子类组成的集合。"
   ],
   "id": "dbb85a5c5679a3e3"
  },
  {
   "metadata": {
    "ExecuteTime": {
     "end_time": "2024-12-07T11:15:20.483383Z",
     "start_time": "2024-12-07T11:15:20.475138Z"
    }
   },
   "cell_type": "code",
   "source": [
    "class Bank:\n",
    "    deposit_interest_rate = 0.02\n",
    "    \n",
    "    def __init__(self):\n",
    "        self.accounts = []\n",
    "    \n",
    "    def open_account(self, account_holder, initial_balance, kind=Account):\n",
    "        account = kind(account_holder)\n",
    "        account.deposit(initial_balance)\n",
    "        \n",
    "        self.accounts.append(account)\n",
    "        \n",
    "        return account\n",
    "    \n",
    "    def pay_interest(self):\n",
    "        for account in self.accounts:\n",
    "            amount = account.balance * 0.02\n",
    "            account.deposit(amount)\n",
    "        \n",
    "        return None\n",
    "        "
   ],
   "id": "9360d5839e69e702",
   "outputs": [],
   "execution_count": 7
  },
  {
   "metadata": {},
   "cell_type": "markdown",
   "source": [
    "## Multiple Inheritance\n",
    "\n",
    "- 一个类可以继承多个父类。\n",
    "- 以下例子中，NeverSeenBeforeAccount 继承了 SavingAccount, CheckingAccount 的属性和方法：存钱时收2元手续费，取钱时收1元手续费。另外，开户时可以免费领1元。\n",
    "- 在重写子类的__init__方法时，建议调用父类的__init__方法。因为可能部分未被重写的方法依赖于父类中的实例变量，如果直接调用这些方法会导致错误。\n",
    "\n",
    "      class NeverSeenBeforeAccount(SavingAccount, CheckingAccount):\n",
    "            def __init__(self, account_holder):\n",
    "                super().__init__(account_holder)\n",
    "                self.balance = 1\n",
    "\n",
    "- super()函数会按照顺序访问该类的直接父类，并返回该父类。相比于直接Hardcoding父类的名字，这种方法更具普遍意义。"
   ],
   "id": "6b5b7de4ccda6777"
  },
  {
   "metadata": {},
   "cell_type": "code",
   "outputs": [],
   "execution_count": null,
   "source": [
    "class SavingAccount(Account):\n",
    "    deposit_fee = 2\n",
    "    \n",
    "    def deposit(self, amount):\n",
    "        return Account.deposit(self, amount - self.deposit_fee)\n",
    "    \n",
    "\n",
    "class NeverSeenBeforeAccount(SavingAccount, CheckingAccount):\n",
    "    def __init__(self, account_holder):\n",
    "        super().__init__(account_holder)\n",
    "        self.balance = 1"
   ],
   "id": "dadd1203d1921ab0"
  }
 ],
 "metadata": {
  "kernelspec": {
   "display_name": "Python 3",
   "language": "python",
   "name": "python3"
  },
  "language_info": {
   "codemirror_mode": {
    "name": "ipython",
    "version": 2
   },
   "file_extension": ".py",
   "mimetype": "text/x-python",
   "name": "python",
   "nbconvert_exporter": "python",
   "pygments_lexer": "ipython2",
   "version": "2.7.6"
  }
 },
 "nbformat": 4,
 "nbformat_minor": 5
}
