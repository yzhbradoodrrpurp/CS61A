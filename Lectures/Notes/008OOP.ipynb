{
 "cells": [
  {
   "metadata": {},
   "cell_type": "markdown",
   "source": [
    "# OOP\n",
    "\n",
    "## 简介\n",
    "\n",
    "- 面向对象编程(Object-Oriented Programming, OOP)是一种编程范式，它由类、对象、属性、方法组成。\n",
    "\n",
    "- 类是对象的模版或者蓝图，规定了对象具有哪些属性和方法；对象是类具体的实例。\n",
    "\n",
    "- 例如：list就是一个类，a就是list这个类的实例。\n",
    "\n",
    "        a = list()  \n",
    "\n",
    "## 细节\n",
    "\n",
    "### \\_\\_init\\_\\_ (Constructor, 构造体)\n",
    "\n",
    "- \\_\\_init\\_\\_ 是 Python 中的一个特殊方法，通常被称为构造方法（或初始化方法）。它在创建类的实例时自动调用，用于初始化新对象的状态。它在类的实例化过程中起到设置初始值的作用。简而言之，\\_\\_init\\_\\_ 是用来为对象赋予初始值的地方。\n",
    "\n",
    "- \\_\\_init\\_\\_ 接收的变量为除了self之外，定义在方法标签内的所有变量，以下例子中 \\_\\_init\\_\\_ 接收 account_holder 变量。\n",
    "\n",
    "- 一个对象的任何属性都应该在这里被定义。在以下例子中，holder, balance都是 self (代值某个对象)的属性。\n",
    "    \n",
    "        def __init__(self, account_holder):\n",
    "            self.holder = account_holder\n",
    "            self.balance = 0 \n",
    "\n",
    "### self\n",
    "\n",
    "- self 是 Python 中一个非常重要的概念，它代表当前类实例的对象自身。你可以把它看作是类实例的引用，它允许你在类的内部方法中访问和修改当前实例的属性和方法。\n",
    "\n",
    "- self 并不是一个关键字，可以用其它名字替代。在实例方法中，第一个参数必须是self，即使可能不会命名为self，但是具有和self一样的功能。也就是说，实例方法的第一个参数必须是一个引用，通常是 self，它代表实例本身。即使你换个名字，它仍然会作为第一个参数，指向当前的实例。\n",
    "\n",
    "### 实例方法\n",
    "\n",
    "- 实例方法就是对对象本身或者其属性做出一定操作的函数。\n",
    "\n",
    "        def deposit(self, amount):\n",
    "                self.balance += amount\n",
    "                return self.balance\n",
    "        \n",
    "        def withdraw(self, amount):\n",
    "            if amount > self.balance:\n",
    "                return 'Insufficient funds.'\n",
    "            else:\n",
    "                self.balance -= amount\n",
    "                return self.balance\n",
    "\n",
    "- 实例方法接收的变量为除了方法签名中的第一个变量(通常命名为 self 表示对象本身)之外的所有变量。使用方法和一般函数的使用方法一摸一样。\n",
    "- 有两种方式来使用方法：\n",
    "    \n",
    "  - 第一种方式，a被赋值给self；第二种方式，a同样被赋值给self。   \n",
    "        \n",
    "        a = Account('Alan')\n",
    "        Account.deposit(a, 100) or a.deposit(100)"
   ],
   "id": "b5834a6af7deca90"
  },
  {
   "cell_type": "code",
   "id": "initial_id",
   "metadata": {
    "collapsed": true,
    "ExecuteTime": {
     "end_time": "2024-12-06T07:44:54.472292Z",
     "start_time": "2024-12-06T07:44:54.466242Z"
    }
   },
   "source": [
    "class Account:\n",
    "    def __init__(self, account_holder):\n",
    "        self.holder = account_holder\n",
    "        self.balance = 0\n",
    "        \n",
    "    def deposit(self, amount):\n",
    "        self.balance += amount\n",
    "        return self.balance\n",
    "    \n",
    "    def withdraw(self, amount):\n",
    "        if amount > self.balance:\n",
    "            return 'Insufficient funds.'\n",
    "        else:\n",
    "            self.balance -= amount\n",
    "            return self.balance"
   ],
   "outputs": [],
   "execution_count": 2
  },
  {
   "metadata": {},
   "cell_type": "markdown",
   "source": [
    "- 可以直接对对象的属性进行修改。\n",
    "- 可以直接创建一个属性，并且可以将任何变量赋给它。这种属性和在__init__中定义的属性是相同的，区别在于一个是动态定义的，另一个是静态定义的。除此之外，动态添加的属性只会作用于该对象本身，不会作用于其它对象。\n",
    "- 用 = 将一个对象赋值给另一个对象并不会创建一个新的对象，因为类本质上是一个可变对象。"
   ],
   "id": "4b626b041d2166fc"
  },
  {
   "metadata": {
    "ExecuteTime": {
     "end_time": "2024-12-06T07:45:09.412296Z",
     "start_time": "2024-12-06T07:45:09.404778Z"
    }
   },
   "cell_type": "code",
   "source": [
    "a = Account('Alice')\n",
    "b = Account('Bob')\n",
    "\n",
    "print(a.holder)\n",
    "print(a.balance)\n",
    "\n",
    "a.holder = 'Alan'\n",
    "a.balance = 100\n",
    "\n",
    "a.backup = b\n",
    "\n",
    "print(a.backup.holder)\n",
    "print(a.backup.balance)"
   ],
   "id": "6c4b128f6d57b1f4",
   "outputs": [
    {
     "name": "stdout",
     "output_type": "stream",
     "text": [
      "Alice\n",
      "0\n",
      "Bob\n",
      "0\n"
     ]
    }
   ],
   "execution_count": 4
  },
  {
   "metadata": {},
   "cell_type": "markdown",
   "source": "",
   "id": "655a9cec18501f96"
  },
  {
   "metadata": {},
   "cell_type": "markdown",
   "source": [
    "## 属性\n",
    "\n",
    "- 属性(Attribute)分为实例的属性和类的属性。实例的属性如上所述，是每个实例特有的。类的属性是每个该类所共有的。\n",
    "- 类的属性是属于类本身的，而不是某个特定的实例。所有通过类创建的实例都共享类的属性（除非某个实例覆盖了这个属性）。__修改类的实例会修改其所有实例的类的实例。__\n",
    "- 实例的属性是属于具体实例的，它们是通过 \\_\\_init\\_\\_ 方法静态定义的或者通过其它方法动态定义的。当你通过类创建一个实例时，实例属性会随对象的创建而初始化。每个实例都有自己的属性副本，互不影响。\n",
    "- 如果动态创建的实例属性与类属性重名，那么实例属性会遮盖（覆盖）类属性。在这种情况下，实例会优先使用实例属性，而不会再使用类属性。换句话说，实例属性的优先级比类属性高。这种机制是因为 Python 会先查找实例属性，如果没有找到，才会查找类属性。"
   ],
   "id": "131b1c478bdd170a"
  },
  {
   "metadata": {},
   "cell_type": "code",
   "outputs": [],
   "execution_count": null,
   "source": [
    "class Account:\n",
    "    # A class attribute\n",
    "    interest = 0.02\n",
    "    \n",
    "    def __init__(self, account_holder):\n",
    "        # These two below are instance attributes.\n",
    "        self.holder = account_holder\n",
    "        self.balance = 0\n",
    "        \n",
    "    def deposit(self, amount):\n",
    "        self.balance += amount\n",
    "        return self.balance\n",
    "    \n",
    "    def withdraw(self, amount):\n",
    "        if amount > self.balance:\n",
    "            return 'Insufficient funds.'\n",
    "        else:\n",
    "            self.balance -= amount\n",
    "            return self.balance"
   ],
   "id": "b64a866f67f95483"
  }
 ],
 "metadata": {
  "kernelspec": {
   "display_name": "Python 3",
   "language": "python",
   "name": "python3"
  },
  "language_info": {
   "codemirror_mode": {
    "name": "ipython",
    "version": 2
   },
   "file_extension": ".py",
   "mimetype": "text/x-python",
   "name": "python",
   "nbconvert_exporter": "python",
   "pygments_lexer": "ipython2",
   "version": "2.7.6"
  }
 },
 "nbformat": 4,
 "nbformat_minor": 5
}
