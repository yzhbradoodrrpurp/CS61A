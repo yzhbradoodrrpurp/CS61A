{
 "cells": [
  {
   "metadata": {},
   "cell_type": "markdown",
   "source": "iterator(迭代器)是一种可以逐个访问可迭代元素的对象，它能够记录当前的位置与这个位置及之后的所有元素。迭代器不能记录当前元素之前的元素，也就是说，当使用next(...)之后，之前的元素就会被排除出迭代器。这也意味着，迭代器中的元素只会出现一次。",
   "id": "fd036322a3ac30f7"
  },
  {
   "cell_type": "code",
   "id": "initial_id",
   "metadata": {
    "collapsed": true,
    "ExecuteTime": {
     "end_time": "2024-12-02T04:52:52.069120Z",
     "start_time": "2024-12-02T04:52:52.060628Z"
    }
   },
   "source": [
    "a = [1,2,3,4,5,6,7,8,9]\n",
    "t = iter(a)\n",
    "\n",
    "print(t)\n",
    "print(next(t))\n",
    "print(next(t))\n",
    "print(list(t))\n",
    "\n",
    "try:\n",
    "    next(t)\n",
    "except StopIteration:\n",
    "    print('All elements in t are iterated.')"
   ],
   "outputs": [
    {
     "name": "stdout",
     "output_type": "stream",
     "text": [
      "<list_iterator object at 0x119d70dc0>\n",
      "1\n",
      "2\n",
      "[3, 4, 5, 6, 7, 8, 9]\n",
      "All elements in t are iterated.\n"
     ]
    }
   ],
   "execution_count": 3
  },
  {
   "metadata": {},
   "cell_type": "markdown",
   "source": "generator(生成器)是一种由生成器函数创造的迭代器。生成器函数是yield结果，而不是return结果。return只能返回一次结果，yield可以返回多次结果，当每次调用生成器函数的时候，会从上一个yield地方开始执行，它会记住上一次的执行状态。所以生成器是一种特殊的迭代器，它不是由可迭代对象创建的，而是由生成器函数创建的。",
   "id": "98a24b14f627b610"
  },
  {
   "metadata": {
    "ExecuteTime": {
     "end_time": "2024-12-02T05:00:43.070348Z",
     "start_time": "2024-12-02T05:00:43.058927Z"
    }
   },
   "cell_type": "code",
   "source": [
    "def my_generator(x):\n",
    "    yield x\n",
    "    yield x ** 2\n",
    "    yield x + 1\n",
    "    yield -x\n",
    "\n",
    "t = my_generator(5)\n",
    "print((next(t)))\n",
    "print(next(t))\n",
    "print(list(t))"
   ],
   "id": "c69384af2269b992",
   "outputs": [
    {
     "name": "stdout",
     "output_type": "stream",
     "text": [
      "5\n",
      "25\n",
      "[6, -5]\n"
     ]
    }
   ],
   "execution_count": 4
  },
  {
   "metadata": {},
   "cell_type": "markdown",
   "source": "generator适用于懒计算，它不会一次性将所有数据加载到内存中，而是根据需求逐个生成值。这对内存效率非常有利，尤其是当处理大型数据集时。生成器函数每次执行到 yield 语句时会暂停，并保存函数的执行状态。下次调用时会从上次停止的位置继续执行。生成器只能迭代一次，无法回到之前的状态。如果你需要多次迭代相同的数据，必须重新生成它。",
   "id": "934c68c77e82a1df"
  },
  {
   "metadata": {},
   "cell_type": "markdown",
   "source": "",
   "id": "e5dc69a1895c755e"
  },
  {
   "metadata": {
    "ExecuteTime": {
     "end_time": "2024-12-02T05:05:35.427708Z",
     "start_time": "2024-12-02T05:05:35.420491Z"
    }
   },
   "cell_type": "code",
   "source": [
    "def get_even_number(start, end):\n",
    "    # Make sure the first number is even.\n",
    "    start = start + (start % 2)\n",
    "    for i in range(start, end, 2):\n",
    "        yield i\n",
    "        \n",
    "even_generator = get_even_number(0, 21)\n",
    "print(next(even_generator))\n",
    "print(next(even_generator))\n",
    "print(next(even_generator))\n",
    "print(next(even_generator))\n",
    "print(next(even_generator))\n",
    "print(list(even_generator))\n"
   ],
   "id": "47eb48faf2a30a77",
   "outputs": [
    {
     "name": "stdout",
     "output_type": "stream",
     "text": [
      "0\n",
      "2\n",
      "4\n",
      "6\n",
      "8\n",
      "[10, 12, 14, 16, 18, 20]\n"
     ]
    }
   ],
   "execution_count": 5
  },
  {
   "metadata": {},
   "cell_type": "markdown",
   "source": "可以用 yield from 直接从一个子生成器或者可迭代对象中创造一个生成器，然后返回。",
   "id": "86a47dabd0811d19"
  },
  {
   "metadata": {
    "ExecuteTime": {
     "end_time": "2024-12-03T04:58:33.147912Z",
     "start_time": "2024-12-03T04:58:33.142477Z"
    }
   },
   "cell_type": "code",
   "source": [
    "def get_even_number(start, end):\n",
    "    iterable = list(range(start + start % 2, end, 2))\n",
    "    yield from iterable\n",
    "    \n",
    "even_generator = get_even_number(0, 21)\n",
    "print(next(even_generator))\n",
    "print(next(even_generator))\n",
    "print(next(even_generator))\n",
    "print(list(even_generator))"
   ],
   "id": "1b0447041f6847a2",
   "outputs": [
    {
     "name": "stdout",
     "output_type": "stream",
     "text": [
      "0\n",
      "2\n",
      "4\n",
      "[6, 8, 10, 12, 14, 16, 18, 20]\n"
     ]
    }
   ],
   "execution_count": 1
  },
  {
   "metadata": {},
   "cell_type": "markdown",
   "source": [
    "- 当数据量特别大并且我们不需要使用到全部的数据时，我们可以使用yield进行懒计算，可以省去大量的计算资源和时间。\n",
    "- 另外值得注意的是，range, map, zip, filter都是生成器函数。 "
   ],
   "id": "54e7643bb9c31a8b"
  },
  {
   "metadata": {
    "ExecuteTime": {
     "end_time": "2024-12-06T06:56:07.447781Z",
     "start_time": "2024-12-06T06:56:00.916931Z"
    }
   },
   "cell_type": "code",
   "source": [
    "def partitions(total, most):\n",
    "    if total > 0 and most > 0:\n",
    "        # total和most刚好相等的情况。\n",
    "        if total == most:\n",
    "            yield str(total)\n",
    "        \n",
    "        # 有most的情况。\n",
    "        for p in partitions(total - most, min(most, total - most)):\n",
    "            yield p + ' + ' + str(most)\n",
    "        \n",
    "        # 没有most的情况。\n",
    "        yield from partitions(total, most - 1)\n",
    "            \n",
    "\n",
    "print(len(list(partitions(60, 50))))\n",
    "\n",
    "partition_generator =  partitions(60, 50)\n",
    "print(next(partition_generator))\n",
    "print(next(partition_generator))\n",
    "print(next(partition_generator))"
   ],
   "id": "ae7ac3d7e9ca52ad",
   "outputs": [
    {
     "name": "stdout",
     "output_type": "stream",
     "text": [
      "966370\n",
      "10 + 50\n",
      "1 + 9 + 50\n",
      "2 + 8 + 50\n"
     ]
    }
   ],
   "execution_count": 2
  }
 ],
 "metadata": {
  "kernelspec": {
   "display_name": "Python 3",
   "language": "python",
   "name": "python3"
  },
  "language_info": {
   "codemirror_mode": {
    "name": "ipython",
    "version": 2
   },
   "file_extension": ".py",
   "mimetype": "text/x-python",
   "name": "python",
   "nbconvert_exporter": "python",
   "pygments_lexer": "ipython2",
   "version": "2.7.6"
  }
 },
 "nbformat": 4,
 "nbformat_minor": 5
}
