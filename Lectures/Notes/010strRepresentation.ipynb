{
 "cells": [
  {
   "metadata": {},
   "cell_type": "markdown",
   "source": [
    "# String Representation\n",
    "\n",
    "## str & repr\n",
    "\n",
    "在Python中，所有对象都拥有两种字符串表示，一种叫作str，另一种叫作repr。\n",
    " \n",
    "- str是对于人类易读的。\n",
    "- repr是对Python易读的。\n",
    "- 在很多情况下str和repr的表示形式相同，但是在某些情况下并不相同。\n",
    "\n",
    "### repr\n",
    "\n",
    "'The repr function returns a Python expression (a string) that evaluates to an equal object.'\n",
    "\n",
    "- 也就是说，对一个对象使用repr函数，会得到在交互式Python环境中call这个对象时得到的相同输出。 \n",
    "\n",
    "### str\n",
    "\n",
    "'The result of calling str on the value of an expression is what Python prints using the print function.'\n",
    "\n",
    "- 也就是说，使用str函数时，得到的结果就是print函数输出这个值的结果，再加上引号。\n",
    "\n",
    "### eval\n",
    "\n",
    "eval函数接收一个字符串(str)，然后计算这个字符串的内容，对它进行解析，最后返回相应的数据类型。"
   ],
   "id": "461d89888c6eda8b"
  },
  {
   "cell_type": "code",
   "id": "initial_id",
   "metadata": {
    "collapsed": true,
    "ExecuteTime": {
     "end_time": "2025-01-08T05:31:39.397046Z",
     "start_time": "2025-01-08T05:31:39.384412Z"
    }
   },
   "source": [
    "print(repr(12e12))\n",
    "12e12"
   ],
   "outputs": [
    {
     "name": "stdout",
     "output_type": "stream",
     "text": [
      "12000000000000.0\n"
     ]
    },
    {
     "data": {
      "text/plain": [
       "12000000000000.0"
      ]
     },
     "execution_count": 4,
     "metadata": {},
     "output_type": "execute_result"
    }
   ],
   "execution_count": 4
  },
  {
   "metadata": {
    "ExecuteTime": {
     "end_time": "2025-01-08T05:31:26.791202Z",
     "start_time": "2025-01-08T05:31:26.783051Z"
    }
   },
   "cell_type": "code",
   "source": [
    "def square(x):\n",
    "    return x ** 2\n",
    "\n",
    "print(repr(square))\n",
    "print(repr(square))"
   ],
   "id": "c4c63ced624ec03c",
   "outputs": [
    {
     "name": "stdout",
     "output_type": "stream",
     "text": [
      "<function square at 0x103691790>\n",
      "<function square at 0x103691790>\n"
     ]
    }
   ],
   "execution_count": 3
  },
  {
   "metadata": {
    "ExecuteTime": {
     "end_time": "2025-01-08T05:38:26.058156Z",
     "start_time": "2025-01-08T05:38:26.043668Z"
    }
   },
   "cell_type": "code",
   "source": [
    "import fractions\n",
    "\n",
    "half = fractions.Fraction(1, 2)\n",
    "\n",
    "print(repr(half))\n",
    "print(half)"
   ],
   "id": "1453bbacff241aa",
   "outputs": [
    {
     "name": "stdout",
     "output_type": "stream",
     "text": [
      "Fraction(1, 2)\n",
      "1/2\n"
     ]
    }
   ],
   "execution_count": 7
  },
  {
   "metadata": {
    "ExecuteTime": {
     "end_time": "2025-01-08T05:42:46.830471Z",
     "start_time": "2025-01-08T05:42:46.821848Z"
    }
   },
   "cell_type": "code",
   "source": [
    "a = eval('2 + 1 - 34')\n",
    "print(type(a), a, sep=': ')"
   ],
   "id": "1afbfa051022ef4",
   "outputs": [
    {
     "name": "stdout",
     "output_type": "stream",
     "text": [
      "<class 'int'>: -31\n"
     ]
    }
   ],
   "execution_count": 11
  },
  {
   "metadata": {},
   "cell_type": "markdown",
   "source": [
    "## \\_\\_str__ & \\_\\_repr__\n",
    "\n",
    "当对一个对象使用str, repr时，实际上是在调用这个对象的类的__str__, __repr__方法。\n",
    "\n",
    "- \\_\\_str__, \\_\\_repr__是Python中对每个类自带的方法，地位等同于\\_\\_init__。\n",
    "- str(x) 实际上是: type(x).\\_\\_str__(x) ; repr(x) 实际上是: type(x).\\_\\_repr__(x)"
   ],
   "id": "e4286ba2d7608ac0"
  },
  {
   "metadata": {
    "ExecuteTime": {
     "end_time": "2025-01-08T05:55:59.272638Z",
     "start_time": "2025-01-08T05:55:59.262884Z"
    }
   },
   "cell_type": "code",
   "source": [
    "class Ratio:\n",
    "    def __init__(self, numerator, denominator):\n",
    "        self.numerator = numerator\n",
    "        self.denominator = denominator\n",
    "        \n",
    "    def __repr__(self):\n",
    "        return f'Ratio({self.numerator}, {self.denominator})'\n",
    "    \n",
    "    def __str__(self):\n",
    "        return f'{self.numerator}/{self.denominator}'\n",
    "    \n",
    "    \n",
    "half = Ratio(1, 2)\n",
    "\n",
    "print(repr(half))\n",
    "print(half)"
   ],
   "id": "282182e7d31ec719",
   "outputs": [
    {
     "name": "stdout",
     "output_type": "stream",
     "text": [
      "Ratio(1, 2)\n",
      "1/2\n"
     ]
    }
   ],
   "execution_count": 12
  },
  {
   "metadata": {},
   "cell_type": "markdown",
   "source": [
    "## Python自带的特殊的方法\n",
    "\n",
    "- \\_\\_init__: 每次创建一个对象时，自动call这个方法。\n",
    "- \\_\\_str__: 得到这个对象的类的Human Readable字符串。\n",
    "- \\_\\_repr__: 得到这个对象的类的Python Readable字符串。\n",
    "- \\_\\_add__: 当使用 'a+b' 时，实际上是在使用a.\\_\\_add__(b)方法。\n",
    "- \\_\\_radd__: 当使用 'a+b' 时，实际上是在使用b.\\_\\_radd__(a)方法。 "
   ],
   "id": "f2fcaac53b131f72"
  },
  {
   "metadata": {
    "ExecuteTime": {
     "end_time": "2025-01-08T06:21:49.175686Z",
     "start_time": "2025-01-08T06:21:49.161811Z"
    }
   },
   "cell_type": "code",
   "source": [
    "class Ratio:\n",
    "    def __init__(self, numerator, denominator):\n",
    "        self.numerator = numerator\n",
    "        self.denominator = denominator\n",
    "        \n",
    "    def __repr__(self):\n",
    "        return f'Ratio({self.numerator}, {self.denominator})'\n",
    "    \n",
    "    def __str__(self):\n",
    "        return f'{self.numerator}/{self.denominator}'\n",
    "    \n",
    "    def __add__(self, other):\n",
    "        if isinstance(other, Ratio):\n",
    "            newNumerator = self.numerator * other.denominator + self.denominator * other.numerator\n",
    "            newDenominator = self.denominator * other.denominator\n",
    "        \n",
    "        elif isinstance(other, int):\n",
    "            newNumerator = self.denominator * other + self.numerator\n",
    "            newDenominator = self.denominator\n",
    "        \n",
    "        divisor = gcd(newDenominator, newNumerator)\n",
    "        \n",
    "        newDenominator = newDenominator // divisor\n",
    "        newNumerator = newNumerator// divisor\n",
    "        \n",
    "        return Ratio(newNumerator, newDenominator)\n",
    "    \n",
    "    __radd__ = __add__\n",
    "    \n",
    "    \n",
    "def gcd(a, b):\n",
    "    while a != b:\n",
    "        a, b = min(a, b), abs(a - b)\n",
    "        \n",
    "    return a\n",
    "\n",
    "\n",
    "add = Ratio(1, 2) + Ratio(2, 3)\n",
    "print(add)\n",
    "\n",
    "add = Ratio(1, 2) + 3\n",
    "print(add)\n"
   ],
   "id": "641f46fdfc00a7e6",
   "outputs": [
    {
     "name": "stdout",
     "output_type": "stream",
     "text": [
      "7/6\n",
      "7/2\n"
     ]
    }
   ],
   "execution_count": 15
  }
 ],
 "metadata": {
  "kernelspec": {
   "display_name": "Python 3",
   "language": "python",
   "name": "python3"
  },
  "language_info": {
   "codemirror_mode": {
    "name": "ipython",
    "version": 2
   },
   "file_extension": ".py",
   "mimetype": "text/x-python",
   "name": "python",
   "nbconvert_exporter": "python",
   "pygments_lexer": "ipython2",
   "version": "2.7.6"
  }
 },
 "nbformat": 4,
 "nbformat_minor": 5
}
