{
 "cells": [
  {
   "metadata": {},
   "cell_type": "markdown",
   "source": [
    "lambda Expression是一种匿名函数，用于快速定义接收值和返回值，整个表达式只能为一行。\n",
    "这里的square是一个函数。"
   ],
   "id": "8a839b43d1734de8"
  },
  {
   "metadata": {
    "ExecuteTime": {
     "end_time": "2024-11-16T04:32:46.351525Z",
     "start_time": "2024-11-16T04:32:46.344830Z"
    }
   },
   "cell_type": "code",
   "source": [
    "square = lambda x: x ** 2\n",
    "square(5)"
   ],
   "id": "a699768f76187a2d",
   "outputs": [
    {
     "data": {
      "text/plain": [
       "25"
      ]
     },
     "execution_count": 1,
     "metadata": {},
     "output_type": "execute_result"
    }
   ],
   "execution_count": 1
  },
  {
   "metadata": {},
   "cell_type": "markdown",
   "source": [
    "另一种call lambda Expression的方式，就是直接加上(...)。\n",
    "这里的square_5是一个int值。"
   ],
   "id": "7d30ebcc0a28f4bb"
  },
  {
   "metadata": {
    "ExecuteTime": {
     "end_time": "2024-11-16T04:32:46.355052Z",
     "start_time": "2024-11-16T04:32:46.352686Z"
    }
   },
   "cell_type": "code",
   "source": [
    "square_5 = (lambda x: x ** 2)(5)\n",
    "print(square_5)"
   ],
   "id": "ec7ee6125c102872",
   "outputs": [
    {
     "name": "stdout",
     "output_type": "stream",
     "text": [
      "25\n"
     ]
    }
   ],
   "execution_count": 2
  },
  {
   "metadata": {},
   "cell_type": "markdown",
   "source": [
    "lambda Expression通常不会用于替代一般的函数定义(def)，因为可能会丧失一些可读性，但是lambda Expression在临时创建一些函数时非常方便。\n",
    "除了在定义的方式有所不同以外，lambda和一般的函数定义在使用方法上都一模一样。\n",
    "另外还有一点不同，lambda expression定义的函数，并不会给予这个函数一个名字，即使将它赋值给一个变量名；\n",
    "而def statement定义的函数会给予这个函数它所定义的名字。"
   ],
   "id": "9fed4a5f2aed7dcf"
  },
  {
   "metadata": {
    "ExecuteTime": {
     "end_time": "2024-11-16T04:32:46.357937Z",
     "start_time": "2024-11-16T04:32:46.355697Z"
    }
   },
   "cell_type": "code",
   "source": [
    "lambda_square = lambda x: x ** 2\n",
    "\n",
    "def def_square(x):\n",
    "    return x ** 2\n",
    "\n",
    "print(lambda_square)\n",
    "print(def_square)"
   ],
   "id": "a83f76bdd3219dd0",
   "outputs": [
    {
     "name": "stdout",
     "output_type": "stream",
     "text": [
      "<function <lambda> at 0x1051a6e50>\n",
      "<function def_square at 0x1051a6ee0>\n"
     ]
    }
   ],
   "execution_count": 3
  },
  {
   "metadata": {},
   "cell_type": "markdown",
   "source": [
    "我们可以使用lambda expression来让高阶函数的使用变得更简单。\n",
    "反正make_adder中定义的函数名并不重要，并且表达式很简单，所以我们可以直接用lambda expression来替换。"
   ],
   "id": "4ce9f551cbd87ae8"
  },
  {
   "metadata": {
    "ExecuteTime": {
     "end_time": "2024-11-16T04:32:46.360607Z",
     "start_time": "2024-11-16T04:32:46.358541Z"
    }
   },
   "cell_type": "code",
   "source": [
    "def make_adder(x):\n",
    "    return lambda y: x + y\n",
    "\n",
    "adder_5 = make_adder(5)\n",
    "print(adder_5(6))\n",
    "\n",
    "print(make_adder(10)(4))"
   ],
   "id": "db8af98e3e463a43",
   "outputs": [
    {
     "name": "stdout",
     "output_type": "stream",
     "text": [
      "11\n",
      "14\n"
     ]
    }
   ],
   "execution_count": 4
  }
 ],
 "metadata": {
  "kernelspec": {
   "display_name": "Python 3",
   "language": "python",
   "name": "python3"
  },
  "language_info": {
   "codemirror_mode": {
    "name": "ipython",
    "version": 2
   },
   "file_extension": ".py",
   "mimetype": "text/x-python",
   "name": "python",
   "nbconvert_exporter": "python",
   "pygments_lexer": "ipython2",
   "version": "2.7.6"
  }
 },
 "nbformat": 4,
 "nbformat_minor": 5
}
