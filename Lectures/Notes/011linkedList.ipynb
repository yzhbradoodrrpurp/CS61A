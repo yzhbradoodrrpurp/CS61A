{
 "cells": [
  {
   "metadata": {},
   "cell_type": "markdown",
   "source": [
    "# 链表(Linked List)\n",
    "\n",
    "## 链表的构成\n",
    "\n",
    "链表通常由两部分构成，一部分是它所存储的值，另一部分是它所链接的下一个部分的链表。"
   ],
   "id": "96a499855a6029c5"
  },
  {
   "cell_type": "code",
   "id": "initial_id",
   "metadata": {
    "collapsed": true,
    "ExecuteTime": {
     "end_time": "2025-01-08T08:34:41.114482Z",
     "start_time": "2025-01-08T08:34:41.108683Z"
    }
   },
   "source": [
    "class Link:\n",
    "    empty = ()\n",
    "    \n",
    "    def __init__(self, value, rest=empty):\n",
    "        assert rest is Link.empty or isinstance(rest, Link)\n",
    "        \n",
    "        self.value = value\n",
    "        self.rest = rest\n",
    "        \n",
    "\n",
    "linked_list = Link(3, Link(4, Link(5)))\n",
    "print(linked_list.value)\n",
    "print(linked_list.rest)\n",
    "\n",
    "print(linked_list.rest.value)\n",
    "print(linked_list.rest.rest)\n",
    "\n",
    "print(linked_list.rest.rest.value)\n",
    "print(linked_list.rest.rest.rest)"
   ],
   "outputs": [
    {
     "name": "stdout",
     "output_type": "stream",
     "text": [
      "3\n",
      "<__main__.Link object at 0x1081aff10>\n",
      "4\n",
      "<__main__.Link object at 0x1081afeb0>\n",
      "5\n",
      "()\n"
     ]
    }
   ],
   "execution_count": 3
  },
  {
   "metadata": {
    "ExecuteTime": {
     "end_time": "2025-01-08T08:57:50.422188Z",
     "start_time": "2025-01-08T08:57:50.412115Z"
    }
   },
   "cell_type": "code",
   "source": [
    "def range_link(start, end):\n",
    "    \"\"\"\n",
    "    :param start: \n",
    "    :param end: \n",
    "    :return: a linked list ranging from start to end - 1\n",
    "    \"\"\"\n",
    "    if start >= end:\n",
    "        return Link.empty\n",
    "    else:\n",
    "        return Link(start, range_link(start + 1, end))\n",
    "    \n",
    "\n",
    "def map_link(f, linked_list):\n",
    "    \"\"\"\n",
    "    :param f: \n",
    "    :param linked_list: \n",
    "    :return: for every item in linked_list, map it to f.\n",
    "    \"\"\"\n",
    "    if linked_list is not Link.empty:\n",
    "        return Link(f(linked_list.value), map_link(f, linked_list.rest))\n",
    "    else:\n",
    "        return Link.empty\n",
    "    \n",
    "\n",
    "def filter_link(f, linked_list):\n",
    "    \"\"\"\n",
    "    :param f: \n",
    "    :param linked_list: \n",
    "    :return: for every item in linked_list, filter it by f. \n",
    "    \"\"\"\n",
    "    if linked_list is not Link.empty:\n",
    "        if f(linked_list.value):\n",
    "            return Link(linked_list.value, filter_link(f, linked_list.rest))\n",
    "        else:\n",
    "            return filter_link(f, linked_list.rest)\n",
    "    else:\n",
    "        return Link.empty"
   ],
   "id": "f517f27cf81ffefd",
   "outputs": [],
   "execution_count": 4
  },
  {
   "metadata": {},
   "cell_type": "markdown",
   "source": [
    "## 树\n",
    "\n",
    "在学OOP之前，用函数和数组的方式定义了树，现在用OOP的方式定义一个树。"
   ],
   "id": "799515c85c27e6a3"
  },
  {
   "metadata": {
    "ExecuteTime": {
     "end_time": "2025-01-08T09:49:57.761740Z",
     "start_time": "2025-01-08T09:49:57.751171Z"
    }
   },
   "cell_type": "code",
   "source": [
    "class Tree:\n",
    "    def __init__(self, label, branches=None):\n",
    "        if branches is None:\n",
    "            branches = []\n",
    "        self.label = label\n",
    "        \n",
    "        for branch in branches:\n",
    "            assert isinstance(branch, Tree)\n",
    "        \n",
    "        self.branches = list(branches)\n",
    "    \n",
    "    def structure(self, indent = 0):\n",
    "        if self is not None: \n",
    "            print('   ' * indent + f'{self.label}')\n",
    "            \n",
    "            for branch in self.branches:\n",
    "                Tree.structure(branch, indent + 1)\n",
    "\n",
    "        \n",
    "tree = Tree(4, [Tree(5, [Tree(10)]), Tree(6, [Tree(7), Tree(1)])])\n",
    "tree.structure()"
   ],
   "id": "299a9a6b1f86c885",
   "outputs": [
    {
     "name": "stdout",
     "output_type": "stream",
     "text": [
      "4\n",
      "   5\n",
      "      10\n",
      "   6\n",
      "      7\n",
      "      1\n"
     ]
    }
   ],
   "execution_count": 15
  }
 ],
 "metadata": {
  "kernelspec": {
   "display_name": "Python 3",
   "language": "python",
   "name": "python3"
  },
  "language_info": {
   "codemirror_mode": {
    "name": "ipython",
    "version": 2
   },
   "file_extension": ".py",
   "mimetype": "text/x-python",
   "name": "python",
   "nbconvert_exporter": "python",
   "pygments_lexer": "ipython2",
   "version": "2.7.6"
  }
 },
 "nbformat": 4,
 "nbformat_minor": 5
}
