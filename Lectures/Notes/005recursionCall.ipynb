{
 "cells": [
  {
   "cell_type": "code",
   "id": "initial_id",
   "metadata": {
    "collapsed": true,
    "ExecuteTime": {
     "end_time": "2024-11-18T12:27:55.537956Z",
     "start_time": "2024-11-18T12:27:55.534694Z"
    }
   },
   "source": [
    "def cascade(x):\n",
    "    if x < 10:\n",
    "        print(x)\n",
    "    else:\n",
    "        print(x)\n",
    "        cascade(x // 10)\n",
    "        print(x)\n",
    "\n",
    "cascade(123456)"
   ],
   "outputs": [
    {
     "name": "stdout",
     "output_type": "stream",
     "text": [
      "123456\n",
      "12345\n",
      "1234\n",
      "123\n",
      "12\n",
      "1\n",
      "12\n",
      "123\n",
      "1234\n",
      "12345\n",
      "123456\n"
     ]
    }
   ],
   "execution_count": 3
  },
  {
   "metadata": {
    "ExecuteTime": {
     "end_time": "2024-11-18T12:28:13.284484Z",
     "start_time": "2024-11-18T12:28:13.279120Z"
    }
   },
   "cell_type": "code",
   "source": [
    "def reverse_cascade(x):\n",
    "    grow(x)\n",
    "    print(x)\n",
    "    shrink(x)\n",
    "    \n",
    "def f_then_g(f, g, x):\n",
    "    if x:\n",
    "        f(x)\n",
    "        g(x)\n",
    "    \n",
    "grow = lambda x: f_then_g(grow, print, x // 10)\n",
    "shrink = lambda x: f_then_g(print, shrink, x // 10)\n",
    "    \n",
    "reverse_cascade(123456)  "
   ],
   "id": "c47b13e1e5af1c8d",
   "outputs": [
    {
     "name": "stdout",
     "output_type": "stream",
     "text": [
      "1\n",
      "12\n",
      "123\n",
      "1234\n",
      "12345\n",
      "123456\n",
      "12345\n",
      "1234\n",
      "123\n",
      "12\n",
      "1\n"
     ]
    }
   ],
   "execution_count": 5
  },
  {
   "metadata": {},
   "cell_type": "markdown",
   "source": "树递归(Tree Recursion)指的是，当进行递归时，函数的body部分调用了多个函数本身，这样就产生了递归分枝，所以被称为Tree Recursion。",
   "id": "885669d999875ad4"
  },
  {
   "metadata": {
    "ExecuteTime": {
     "end_time": "2024-11-19T12:00:48.455032Z",
     "start_time": "2024-11-19T12:00:48.448806Z"
    }
   },
   "cell_type": "code",
   "source": [
    "def fibonacci(x):\n",
    "    if x == 0:\n",
    "        return 0\n",
    "    elif x == 1:\n",
    "        return 1\n",
    "    else:\n",
    "        return fibonacci(x - 1) + fibonacci(x - 2)\n",
    "    \n",
    "fibonacci(10)"
   ],
   "id": "747ce26963e5af33",
   "outputs": [
    {
     "data": {
      "text/plain": [
       "55"
      ]
     },
     "execution_count": 1,
     "metadata": {},
     "output_type": "execute_result"
    }
   ],
   "execution_count": 1
  },
  {
   "metadata": {
    "ExecuteTime": {
     "end_time": "2024-11-19T12:37:35.800901Z",
     "start_time": "2024-11-19T12:37:35.794409Z"
    }
   },
   "cell_type": "code",
   "source": [
    "def count_partitions(x, y):\n",
    "    if x == 0:\n",
    "        return 1\n",
    "    elif x < 0:\n",
    "        return 0\n",
    "    elif y == 0:\n",
    "        return 0\n",
    "    else:\n",
    "        with_y = partitions(x - y, y)\n",
    "        without_y = partitions(x, y - 1)\n",
    "        return with_y + without_y\n",
    "     \n",
    "count_partitions(6, 4)"
   ],
   "id": "703068ee624fd83f",
   "outputs": [
    {
     "data": {
      "text/plain": [
       "9"
      ]
     },
     "execution_count": 6,
     "metadata": {},
     "output_type": "execute_result"
    }
   ],
   "execution_count": 6
  },
  {
   "metadata": {
    "ExecuteTime": {
     "end_time": "2024-11-25T02:18:24.647889Z",
     "start_time": "2024-11-25T02:18:24.635217Z"
    }
   },
   "cell_type": "code",
   "source": [
    "def next_smaller_dollar(dollar):\n",
    "    if dollar == 100:\n",
    "        return 50\n",
    "    elif dollar == 50:\n",
    "        return 20\n",
    "    elif dollar == 20:\n",
    "        return 10\n",
    "    elif dollar == 10:\n",
    "        return 5\n",
    "    elif dollar == 5:\n",
    "        return 1\n",
    "    else:\n",
    "        return 0\n",
    "    \n",
    "\n",
    "def get_max_dollar(dollar):\n",
    "    if dollar >= 100:\n",
    "        return 100\n",
    "    elif dollar >= 50:\n",
    "        return 50\n",
    "    elif dollar >= 20:\n",
    "        return 20\n",
    "    elif dollar >= 10:\n",
    "        return 10\n",
    "    elif dollar >= 5:\n",
    "        return 5\n",
    "    elif dollar >= 1:\n",
    "        return 1\n",
    "    else:\n",
    "        return 0\n",
    "    \n",
    "\n",
    "def count_dollars(total):\n",
    "    def partition(bill, max_dollar):\n",
    "        if bill == 0:\n",
    "            return 1\n",
    "        if max_dollar == 1:\n",
    "            return 1\n",
    "        elif bill < 0:\n",
    "            return 0\n",
    "        if max_dollar <= 0:\n",
    "            return 0\n",
    "        else:\n",
    "            return partition(bill, next_smaller_dollar(max_dollar)) + partition(bill - max_dollar, min(max_dollar, get_max_dollar(bill - max_dollar)))\n",
    "        \n",
    "    return partition(total, get_max_dollar(total))\n",
    "\n",
    "\n",
    "print(count_dollars(10))\n",
    "print(count_dollars(20))\n",
    "print(count_dollars(100))\n",
    "print(count_dollars(200))"
   ],
   "id": "85e775700c281004",
   "outputs": [
    {
     "name": "stdout",
     "output_type": "stream",
     "text": [
      "4\n",
      "10\n",
      "344\n",
      "3274\n"
     ]
    }
   ],
   "execution_count": 3
  }
 ],
 "metadata": {
  "kernelspec": {
   "display_name": "Python 3",
   "language": "python",
   "name": "python3"
  },
  "language_info": {
   "codemirror_mode": {
    "name": "ipython",
    "version": 2
   },
   "file_extension": ".py",
   "mimetype": "text/x-python",
   "name": "python",
   "nbconvert_exporter": "python",
   "pygments_lexer": "ipython2",
   "version": "2.7.6"
  }
 },
 "nbformat": 4,
 "nbformat_minor": 5
}
