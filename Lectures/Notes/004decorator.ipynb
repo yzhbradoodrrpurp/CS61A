{
 "cells": [
  {
   "metadata": {},
   "cell_type": "markdown",
   "source": [
    "Python可以自定义装饰器(decorator)，装饰器本质上是一种高阶函数，用于修改其他函数或方法的行为，通常通过 @decorator_name 语法来使用。\n",
    "它接收函数作为参数，并且返回函数。被@decorator_name标注的函数就是作为参数传入装饰器的函数。"
   ],
   "id": "823875d6966a29fc"
  },
  {
   "cell_type": "code",
   "id": "initial_id",
   "metadata": {
    "collapsed": true,
    "ExecuteTime": {
     "end_time": "2024-11-16T12:46:28.074087Z",
     "start_time": "2024-11-16T12:46:28.068896Z"
    }
   },
   "source": [
    "def trace(function):\n",
    "    def plus_report(x):\n",
    "        print(f'function: {function}, argument: {x}')\n",
    "        return function(x)\n",
    "    return plus_report\n",
    "\n",
    "\"\"\"\n",
    "加上了@trace装饰器的函数相当于变了形，\n",
    "即square = trace(square)，increment = trace(increment)，\n",
    "多了print(...)那一部分。\n",
    "\"\"\"\n",
    "\n",
    "@trace\n",
    "def square(x):\n",
    "    return x ** 2\n",
    "\n",
    "@trace\n",
    "def increment(x):\n",
    "    return x + 1\n",
    "\n",
    "print(square(5))\n",
    "print(increment(5))"
   ],
   "outputs": [
    {
     "name": "stdout",
     "output_type": "stream",
     "text": [
      "function: <function square at 0x1056b18b0>, argument: 5\n",
      "25\n",
      "function: <function increment at 0x1054dc700>, argument: 5\n",
      "6\n"
     ]
    }
   ],
   "execution_count": 7
  }
 ],
 "metadata": {
  "kernelspec": {
   "display_name": "Python 3",
   "language": "python",
   "name": "python3"
  },
  "language_info": {
   "codemirror_mode": {
    "name": "ipython",
    "version": 2
   },
   "file_extension": ".py",
   "mimetype": "text/x-python",
   "name": "python",
   "nbconvert_exporter": "python",
   "pygments_lexer": "ipython2",
   "version": "2.7.6"
  }
 },
 "nbformat": 4,
 "nbformat_minor": 5
}
